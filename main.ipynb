{
 "cells": [
  {
   "cell_type": "markdown",
   "id": "8269d3ce",
   "metadata": {},
   "source": [
    "# Financial data science and hedging\n",
    "\n",
    "#### Job Marcelis, Ernani Hazbolatow, Koen Verlaan"
   ]
  },
  {
   "cell_type": "code",
   "execution_count": null,
   "id": "c4c0df71",
   "metadata": {},
   "outputs": [],
   "source": [
    "from src.hedging_sim import *\n",
    "import numpy as np\n",
    "import matplotlib.pyplot as plt"
   ]
  },
  {
   "cell_type": "markdown",
   "id": "51ad3974",
   "metadata": {},
   "source": [
    "#### 3. Hedging Simulation\n",
    "\n",
    "The euler method is used to make a simple hedging simulation. The stock price movement is thus modeled according to the following equation:\n",
    "\\begin{equation}\n",
    "    S_{t + dt} = S_t + rS_tdt + \\sigma S_t\\sqrt{dt}Z,\n",
    "\\end{equation}\n",
    "where $r$ is the risk-free interest rate, $\\sigma$ is the volatility, and $Z$ is a standard normal variable.\n",
    "\n",
    "Furthermore, $\\Delta$ is calculated using: $N(d_1)$, where $N$ is the cumulative distribution function of the standard normal distribution and $d_1$ is given by:\n",
    "\\begin{equation}\n",
    "    d_1 = \\frac{ln(\\frac{S}{K}) + (r + \\frac{\\sigma ^2}{2})T}{\\sigma \\sqrt{T}},\n",
    "\\end{equation}\n",
    "where $K$ is the strike price and $T$ is the time. And the option price is given by:\n",
    "\\begin{equation}\n",
    "    C(S_t, K, t, T, \\sigma) = S_tN(d_1) - Ke^{-rT}N(d_2),\n",
    "\\end{equation}\n",
    "where $d_2 = d_1 - \\sigma \\sqrt{T}$.\n",
    "\n",
    "The hedging simulation works as follows:\n",
    "- A price path is calculated using the euler approximation of the Black-Scholes equation\n",
    "- At each step in this path, the $\\Delta$ calculated, the interest rate is added, and the change in stock position is calculated\n",
    "- At maturity, the payoff of the option, followed by the value of the portfolio, and the hedging error, is calculated.\n",
    "\n",
    "This process is repeated 5000 times and the mean and confidence intervals at the $p=95%$ confidence level are calculated."
   ]
  },
  {
   "cell_type": "markdown",
   "id": "1dec929f",
   "metadata": {},
   "source": [
    "In the first experiment, we match the volatility of the price path with the option delta and vary the hedge adjustment frequency:"
   ]
  },
  {
   "cell_type": "code",
   "execution_count": null,
   "id": "783e50cf",
   "metadata": {},
   "outputs": [],
   "source": [
    "more_freqs = np.linspace(12, 330, 11)\n",
    "means = []\n",
    "CIs = []\n",
    "for i in more_freqs:\n",
    "    mean, CI = multiple_hedge_sims(num_runs=5000, S0=100, r=0.06, sigma=0.2, sigma_delta=0.2, T=1, dt=1/i, K=99, seed=int(i))\n",
    "    means.append(mean)\n",
    "    CIs.append(CI)\n",
    "\n",
    "mean_weekly, CI_weekly = multiple_hedge_sims(num_runs=5000, S0=100, r=0.06, sigma=0.2, sigma_delta=0.2, T=1, dt=1/52, K=99, seed=52)\n",
    "mean_daily, CI_daily = multiple_hedge_sims(num_runs=5000, S0=100, r=0.06, sigma=0.2, sigma_delta=0.2, T=1, dt=1/365, K=99, seed=365)"
   ]
  },
  {
   "cell_type": "code",
   "execution_count": null,
   "id": "9fb0d892",
   "metadata": {},
   "outputs": [],
   "source": [
    "plt.figure(figsize=(8,5), dpi=300)\n",
    "plt.title(\"Hedging error vs. Frequency of Hedge Adjustments\", fontsize=16)\n",
    "plt.errorbar(more_freqs, means, yerr=CIs, fmt='o', color='black', label='Other Frequencies', capsize=5)\n",
    "plt.errorbar(52, mean_weekly, yerr=CI_weekly, fmt='o', color='red', label='Weekly Frequency', capsize=5)\n",
    "plt.errorbar(365, mean_daily, yerr=CI_daily, fmt='o', color='green', label='Daily Frequency', capsize=5)\n",
    "plt.ylabel(\"Hedging error [EUR]\", fontsize=15)\n",
    "plt.xlabel(\"Frequency of Hedge Adjustments per Year\", fontsize=15)\n",
    "plt.tick_params(axis='both', labelsize=12)\n",
    "plt.legend(fontsize=12)\n",
    "plt.grid(ls='dashed')\n",
    "plt.show()"
   ]
  },
  {
   "cell_type": "markdown",
   "id": "c400cd60",
   "metadata": {},
   "source": [
    "In the second experiment, the volatility of the price path is fixed while the volatility of the option delta is varied:"
   ]
  },
  {
   "cell_type": "code",
   "execution_count": null,
   "id": "b062335a",
   "metadata": {},
   "outputs": [],
   "source": [
    "delta_val_volatility = np.linspace(10, 30, 10)\n",
    "means = []\n",
    "CIs = []\n",
    "for i in delta_val_volatility:\n",
    "    mean, CI = multiple_hedge_sims(num_runs=5000, S0=100, r=0.06, sigma=0.2, sigma_delta=i/100, T=1, dt=1/365, K=99, seed=int(i*i))\n",
    "    means.append(mean)\n",
    "    CIs.append(CI)\n",
    "mean_matched, CI_matched = multiple_hedge_sims(num_runs=5000, S0=100, r=0.06, sigma=0.2, sigma_delta=20/100, T=1, dt=1/365, K=99, seed=69)"
   ]
  },
  {
   "cell_type": "code",
   "execution_count": null,
   "id": "2923ea29",
   "metadata": {},
   "outputs": [],
   "source": [
    "plt.figure(figsize=(8,5), dpi=300)\n",
    "plt.title(\"Hedging error vs. Volatility of Delta Valuation\", fontsize=16)\n",
    "plt.errorbar(delta_val_volatility, means, yerr=CIs, fmt='o', color='black', capsize=5, label='Mismatched Volatility')\n",
    "plt.errorbar(20, mean_matched, yerr=CI_matched, fmt='o', color='green', capsize=5, label='Matched Volatility')\n",
    "plt.ylabel(\"Hedging error [EUR]\", fontsize=15)\n",
    "plt.xlabel(\"Volatility of Delta Valuation [%]\", fontsize=15)\n",
    "plt.tick_params(axis='both', labelsize=12)\n",
    "plt.grid(ls='dashed')\n",
    "plt.legend(fontsize=12)\n",
    "plt.show()"
   ]
  }
 ],
 "metadata": {
  "kernelspec": {
   "display_name": "base",
   "language": "python",
   "name": "python3"
  },
  "language_info": {
   "codemirror_mode": {
    "name": "ipython",
    "version": 3
   },
   "file_extension": ".py",
   "mimetype": "text/x-python",
   "name": "python",
   "nbconvert_exporter": "python",
   "pygments_lexer": "ipython3",
   "version": "3.11.5"
  }
 },
 "nbformat": 4,
 "nbformat_minor": 5
}
