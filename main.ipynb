{
 "cells": [
  {
   "cell_type": "markdown",
   "id": "ee07d38f",
   "metadata": {},
   "source": [
    "# Assignment 3: Binary options, Barrier options, and Implied volatility on the Heston model\n",
    "\n",
    "#### Job Marcelis, Ernani Hazbolatow, Koen Verlaan\n",
    "#### May 19, 2025 University of Amsterdam"
   ]
  },
  {
   "cell_type": "code",
   "execution_count": null,
   "id": "fb8c05a2",
   "metadata": {},
   "outputs": [],
   "source": [
    "from src.binary_PDE import *"
   ]
  },
  {
   "cell_type": "markdown",
   "id": "560ae3c5",
   "metadata": {},
   "source": [
    "#### Binary options"
   ]
  },
  {
   "cell_type": "code",
   "execution_count": null,
   "id": "13b1fce3",
   "metadata": {},
   "outputs": [],
   "source": [
    "# Main simulation settings\n",
    "Nx = 100\n",
    "Nt = 100\n",
    "S0 = 1\n",
    "r = 0.05\n",
    "sigma = 0.2\n",
    "K = 1.05\n",
    "T = 1\n",
    "num_paths = 10000\n",
    "seed = 420\n",
    "q = 2*r/sigma**2\n",
    "a = 0.5*(q - 1)\n",
    "b = 0.25*(q + 1)**2\n",
    "xmax = 1\n",
    "x = np.linspace(-xmax, xmax, Nx)\n",
    "tau = np.linspace(0, 0.5*sigma**2 * T, Nt)"
   ]
  },
  {
   "cell_type": "markdown",
   "id": "1df814ae",
   "metadata": {},
   "source": [
    "Below we compute the binary option price using the analytical formula, Monte Carlo simulations, the Backward-Time-Central-Space (BTCS) scheme, and the Crank-Nicolson (CN) scheme. This is done at $S_0 = 1$ and as a function of time. Since the $K > S_0$, the price approaches 0 as $T \\rightarrow 1$. If $K < S_0$, the price would become 1."
   ]
  },
  {
   "cell_type": "code",
   "execution_count": null,
   "id": "652bbf65",
   "metadata": {},
   "outputs": [],
   "source": [
    "Nt = 40\n",
    "tau = np.linspace(0, 0.5*sigma**2 * T, Nt)\n",
    "\n",
    "######## Analytical Price and Monte Carlo price ##############\n",
    "time = np.linspace(0, 0.999, 20)\n",
    "analytical_prices = np.zeros(len(time))\n",
    "MC_prices = np.zeros_like(analytical_prices)\n",
    "MC_CIs = np.zeros_like(analytical_prices)\n",
    "for i, T in enumerate(time):\n",
    "    price = closed_form_price(1-T, r, sigma, K, S0)\n",
    "    MC_price, MC_CI = MC_binary_price(num_paths, 1-T, r, sigma, K, S0, seed+i)\n",
    "\n",
    "    analytical_prices[i] = price\n",
    "    MC_prices[i] = MC_price\n",
    "    MC_CIs[i] = MC_CI\n",
    "\n",
    "########## BTCS price ############\n",
    "result_BTCS = BTCS_scheme(K, x, tau, q, a, b)\n",
    "x0 = np.log(S0 / K)\n",
    "y_at_x0 = np.zeros(len(tau))\n",
    "for n in range(len(tau)):\n",
    "    f = interp1d(x, result_BTCS[n, :], kind='linear', fill_value='extrapolate')\n",
    "    y_at_x0[n] = f(x0)\n",
    "C_at_S0_BTCS = K * y_at_x0 * np.exp(-a*x0 - b*tau)\n",
    "t_vals = T - 2*tau / sigma**2\n",
    "\n",
    "############ CN price ##############\n",
    "result_CN = CN_scheme(K, x, tau, q, a, b)\n",
    "y_at_x0 = np.zeros(len(tau))\n",
    "for n in range(len(tau)):\n",
    "    f = interp1d(x, result_CN[n, :], kind='linear', fill_value='extrapolate')\n",
    "    y_at_x0[n] = f(x0)\n",
    "C_at_S0_CN = K * y_at_x0 * np.exp(-a*x0 - b*tau)\n",
    "\n",
    "\n",
    "plt.figure(figsize=(7,5), dpi=300)\n",
    "plt.scatter(t_vals, C_at_S0_BTCS, color='black', label='BTCS Scheme', marker='v')\n",
    "plt.scatter(t_vals, C_at_S0_CN, color='green', label='CN Scheme', marker='s')\n",
    "plt.scatter(time, analytical_prices, label='Analytical', color='red', marker='*', zorder=5)\n",
    "plt.errorbar(time, MC_prices, yerr=MC_CIs, fmt='o', label='MC', color='blue')\n",
    "plt.xlabel(r'$t$', fontsize=16)\n",
    "plt.ylabel(r'$C(t, S=1)$', fontsize=16)\n",
    "plt.title(r'Time evolution of Binary Call for $S_0=1$, $K=1.05$', fontsize=17)\n",
    "plt.grid(ls='dashed')\n",
    "plt.tick_params(axis='both', labelsize=13)\n",
    "plt.legend(fontsize=13)\n",
    "plt.tight_layout()\n",
    "plt.show()"
   ]
  },
  {
   "cell_type": "markdown",
   "id": "dffda08c",
   "metadata": {},
   "source": [
    "Below is the option price surface as a function of t and S."
   ]
  },
  {
   "cell_type": "code",
   "execution_count": null,
   "id": "cf2706d2",
   "metadata": {},
   "outputs": [],
   "source": [
    "Nt = 100\n",
    "tau = np.linspace(0, 0.5*sigma**2 * T, Nt)\n",
    "result_CN = CN_scheme(K, x, tau, q, a, b)\n",
    "\n",
    "plot_option_surface(result_CN, tau, x, T, K, sigma, a, b)"
   ]
  },
  {
   "cell_type": "markdown",
   "id": "7a7e19b6",
   "metadata": {},
   "source": [
    "To explore the parameter space, we vary $K$ and $\\sigma$ between reasonable values while keeping the rest constant, we then set $t=0$ and plot the option price vs. $K$ and $S$, and $\\sigma$ and $S$, respectively."
   ]
  },
  {
   "cell_type": "code",
   "execution_count": null,
   "id": "05b66a6f",
   "metadata": {},
   "outputs": [],
   "source": [
    "K_vals = np.linspace(0.8, 1.2, 40)\n",
    "K_mesh, S_mesh, C_surface = sens_analysis(x, tau, Nx, r, sigma, K, K_vals, parameter_to_vary='K')\n",
    "\n",
    "fig = plt.figure(figsize=(10, 7), dpi=300)\n",
    "ax = fig.add_subplot(111, projection='3d')\n",
    "surf = ax.plot_surface(K_mesh, S_mesh, C_surface, cmap='viridis', edgecolor='none')\n",
    "ax.set_xlabel(r'$K$', fontsize=16, labelpad=10)\n",
    "ax.set_ylabel(r'$S$', fontsize=16, labelpad=10)\n",
    "ax.set_zlabel(r'$C(t=0,S;K)$', fontsize=16, labelpad=10)\n",
    "ax.set_title(r'Binary Call Price vs $S$ and $K$', fontsize=18, pad=10)\n",
    "ax.tick_params(axis='both', labelsize=14)\n",
    "cbar = fig.colorbar(surf, shrink=0.4, aspect=10, pad=0.05)\n",
    "cbar.set_label('Binary Option Price', fontsize=14, labelpad=5)\n",
    "cbar.ax.tick_params(labelsize=12)\n",
    "plt.tight_layout()\n",
    "plt.show()"
   ]
  },
  {
   "cell_type": "code",
   "execution_count": null,
   "id": "807465d9",
   "metadata": {},
   "outputs": [],
   "source": [
    "sigma_vals = np.linspace(0.05, 0.5, 20)\n",
    "sigma_mesh, S_mesh, C_surface = sens_analysis(x, tau, Nx, r, sigma, K, sigma_vals, parameter_to_vary='sigma')\n",
    "\n",
    "fig = plt.figure(figsize=(10, 7), dpi=300)\n",
    "ax = fig.add_subplot(111, projection='3d')\n",
    "surf = ax.plot_surface(sigma_mesh, S_mesh, C_surface, cmap='viridis', edgecolor='none')\n",
    "ax.set_xlabel(r'$\\sigma$', fontsize=16, labelpad=10)\n",
    "ax.set_ylabel(r'$S$', fontsize=16, labelpad=10)\n",
    "ax.set_zlabel(r'$C(t=0,S)$', fontsize=16, labelpad=10)\n",
    "ax.set_title(r'Binary Call Price vs $\\sigma$ and $S$', fontsize=18, pad=10)\n",
    "ax.tick_params(axis='both', labelsize=14)\n",
    "cbar = fig.colorbar(surf, shrink=0.4, aspect=10, pad=0.05)\n",
    "cbar.set_label('Binary Option Price', fontsize=14, labelpad=5)\n",
    "cbar.ax.tick_params(labelsize=12)\n",
    "plt.tight_layout()\n",
    "plt.show()"
   ]
  },
  {
   "cell_type": "markdown",
   "id": "b86b8eea",
   "metadata": {},
   "source": [
    "Finally, we compute the option $\\Delta$ using the analytical formula as well as the approximated $\\Delta$ from the crank-nicolson results."
   ]
  },
  {
   "cell_type": "code",
   "execution_count": null,
   "id": "18a18338",
   "metadata": {},
   "outputs": [],
   "source": [
    "S_grid = K * np.exp(x)\n",
    "delta_a = digital_delta_analytic(r, sigma, S_grid, K, T)\n",
    "\n",
    "C_grid = K * result_CN[-1, :] * np.exp(-a*x - b*tau[-1])\n",
    "delta_CN = np.gradient(C_grid, S_grid)\n",
    "\n",
    "plt.figure(figsize=(7, 5), dpi=300)\n",
    "plt.title(r'Option $\\Delta$ of a Binary Option', fontsize=17)\n",
    "plt.plot(S_grid, delta_CN, label='CN Δ', color='blue')\n",
    "plt.plot(S_grid, delta_a,  '--', label='Analytic Δ', color='red')\n",
    "plt.legend(fontsize=12)\n",
    "plt.xlabel(r'$S$', fontsize=15)\n",
    "plt.ylabel(r'$\\Delta$', fontsize=15)\n",
    "plt.tight_layout()\n",
    "plt.grid(ls='dashed')\n",
    "plt.tick_params(axis='both', labelsize=13)\n",
    "plt.show()"
   ]
  }
 ],
 "metadata": {
  "kernelspec": {
   "display_name": "base",
   "language": "python",
   "name": "python3"
  },
  "language_info": {
   "codemirror_mode": {
    "name": "ipython",
    "version": 3
   },
   "file_extension": ".py",
   "mimetype": "text/x-python",
   "name": "python",
   "nbconvert_exporter": "python",
   "pygments_lexer": "ipython3",
   "version": "3.11.5"
  }
 },
 "nbformat": 4,
 "nbformat_minor": 5
}
