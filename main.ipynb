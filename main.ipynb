{
 "cells": [
  {
   "cell_type": "markdown",
   "id": "932b5410",
   "metadata": {},
   "source": [
    "# Option Pricing: Asian options and Temperature Derivatives\n",
    "\n",
    "### Job Marcelis, Ernani Hazbolatow, Koen Verlaan\n",
    "#### May 2025, University of Amsterdam"
   ]
  },
  {
   "cell_type": "code",
   "execution_count": null,
   "id": "f3cfd063",
   "metadata": {},
   "outputs": [],
   "source": [
    "import numpy as np\n",
    "import matplotlib.pyplot as plt\n",
    "from src.Euler_vs_Milstein import *\n",
    "from src.control_variate_MC import *"
   ]
  },
  {
   "cell_type": "markdown",
   "id": "87186392",
   "metadata": {},
   "source": [
    "#### Asian options under the Heston model"
   ]
  },
  {
   "cell_type": "code",
   "execution_count": null,
   "id": "4073a3b0",
   "metadata": {},
   "outputs": [],
   "source": [
    "# Model parameters\n",
    "S0 = 100\n",
    "V0 = 0.04\n",
    "K = 105\n",
    "T = 1\n",
    "dt = 0.001\n",
    "r = 0.05\n",
    "rho = -0.7\n",
    "kappa = 2\n",
    "theta = 0.04\n",
    "xi = 0.25\n",
    "M = 10000\n",
    "seed = 69\n",
    "sigma = 0.2"
   ]
  },
  {
   "cell_type": "markdown",
   "id": "75ab43cf",
   "metadata": {},
   "source": [
    "First, we compare the Euler and Milstein discretization schemes:"
   ]
  },
  {
   "cell_type": "code",
   "execution_count": null,
   "id": "2e9550fe",
   "metadata": {},
   "outputs": [],
   "source": [
    "dts = np.logspace(-5, -1, 15)\n",
    "eul_means = np.zeros_like(dts)\n",
    "eul_CI = np.zeros_like(dts)\n",
    "mil_means = np.zeros_like(dts)\n",
    "mil_CI = np.zeros_like(dts)\n",
    "for i, dt in enumerate(dts):\n",
    "    MC_est_euler, MC_est_euler_CI, MC_est_mil, MC_est_mil_CI = heston_euler_vs_milstein(M, S0, V0, K, T, dt, r, rho, kappa, theta, xi, seed)\n",
    "    eul_means[i] = MC_est_euler\n",
    "    eul_CI[i] = MC_est_euler_CI\n",
    "    mil_means[i] = MC_est_mil\n",
    "    mil_CI[i] = MC_est_mil_CI"
   ]
  },
  {
   "cell_type": "code",
   "execution_count": null,
   "id": "6eb4ed38",
   "metadata": {},
   "outputs": [],
   "source": [
    "plt.figure(figsize=(7,5), dpi=300)\n",
    "plt.title('Option Price with Euler and Milstein Scheme', fontsize=17)\n",
    "plt.scatter(dts, mil_means, color='red', label='Milstein Scheme')\n",
    "plt.fill_between(dts, mil_means - mil_CI, mil_means + mil_CI, alpha=0.4, color='red')\n",
    "plt.scatter(dts, eul_means, color='green', label='Euler Scheme', marker='v')\n",
    "plt.fill_between(dts, eul_means - eul_CI, eul_means + eul_CI, alpha=0.5, color='green')\n",
    "plt.xlabel('dt', fontsize=16)\n",
    "plt.ylabel('Option Price', fontsize=15)\n",
    "plt.legend(fontsize=12)\n",
    "plt.tick_params(axis='both', labelsize=12)\n",
    "plt.grid(ls='dashed')\n",
    "plt.xscale('log')\n",
    "plt.tight_layout()\n",
    "plt.show()"
   ]
  },
  {
   "cell_type": "markdown",
   "id": "51f14e43",
   "metadata": {},
   "source": [
    "To verify our implementation, we set $\\xi = 0$ and compare it to a geometric Brownian motion benchmark:"
   ]
  },
  {
   "cell_type": "code",
   "execution_count": null,
   "id": "0a454acf",
   "metadata": {},
   "outputs": [],
   "source": [
    "dt = 0.0001\n",
    "MC_est_euler, MC_est_euler_CI, MC_est_mil, MC_est_mil_CI = heston_euler_vs_milstein(M, S0, V0, K, T, dt, r, rho, kappa, theta, 0, seed)\n",
    "GBM_mean, GBM_CI = gbm_benchmark(M, S0, K, T, dt, r, sigma, seed)\n",
    "print(f'Euler (xi=0) price = {MC_est_euler} +- {MC_est_euler_CI}')\n",
    "print(f'Milstein (xi=0) price = {MC_est_mil} +- {MC_est_mil_CI}')\n",
    "print(f'GBM price = {GBM_mean} +- {GBM_CI}')"
   ]
  },
  {
   "cell_type": "markdown",
   "id": "7d165230",
   "metadata": {},
   "source": [
    "From now on, we use $\\Delta t = 10^{-4}$ and the control variate coefficient is set to $c=1$."
   ]
  },
  {
   "cell_type": "code",
   "execution_count": null,
   "id": "0fd3ed3c",
   "metadata": {},
   "outputs": [],
   "source": [
    "dt = 0.0001\n",
    "sigma = 0.2\n",
    "c = 1\n",
    "M = 100000"
   ]
  },
  {
   "cell_type": "markdown",
   "id": "d58bbf06",
   "metadata": {},
   "source": [
    "The control variate that is used is the analytical geometric Asian price, which we compare to the previous results to ensure accuracy:"
   ]
  },
  {
   "cell_type": "code",
   "execution_count": null,
   "id": "4158754c",
   "metadata": {},
   "outputs": [],
   "source": [
    "analyt_price = analytical_price(S0, r, T, K, sigma, int(T/dt))\n",
    "print(f'Control Variate reference (sigma = 0.2, N = 10000, c = 1) = {analyt_price}')\n",
    "MC_est_euler, MC_est_euler_CI, MC_est_mil, MC_est_mil_CI = heston_euler_vs_milstein(10000, S0, V0, K, T, dt, r, rho, kappa, theta, xi, seed)\n",
    "print(f'Euler price = {MC_est_euler} +- {MC_est_euler_CI}')\n",
    "print(f'Milstein price = {MC_est_mil} +- {MC_est_mil_CI}')"
   ]
  },
  {
   "cell_type": "markdown",
   "id": "6b58ec45",
   "metadata": {},
   "source": [
    "Now, we do the first control variate run and compare the prices, standard error, and variance of plain Monte carlo and control variate Monte Carlo"
   ]
  },
  {
   "cell_type": "code",
   "execution_count": null,
   "id": "20bbf32c",
   "metadata": {},
   "outputs": [],
   "source": [
    "result_singleM = control_variate_MC(M, S0, V0, K, T, dt, r, rho, kappa, theta, xi, sigma, c, seed)"
   ]
  },
  {
   "cell_type": "code",
   "execution_count": null,
   "id": "226414a5",
   "metadata": {},
   "outputs": [],
   "source": [
    "print(f\"Plain Monte Carlo price = {result_singleM['plain'][0]}. StdErr = {result_singleM['plain'][1]} and Var = {result_singleM['plain'][2]}\")\n",
    "print(f\"CV Monte Carlo price = {result_singleM['control_var'][0]}. StdErr = {result_singleM['control_var'][1]} and Var = {result_singleM['control_var'][2]}\")"
   ]
  },
  {
   "cell_type": "markdown",
   "id": "83606857",
   "metadata": {},
   "source": [
    "To investigate the efficacy of the variance reduction, we use multiple numbers of paths ($M$):"
   ]
  },
  {
   "cell_type": "code",
   "execution_count": null,
   "id": "ab7bddfc",
   "metadata": {},
   "outputs": [],
   "source": [
    "for i, M_paths in enumerate([10000, 50000, 100000, 150000, 200000, 250000]):\n",
    "    result = control_variate_MC(M_paths, S0, V0, K, T, dt, r, rho, kappa, theta, xi, sigma, c, seed*2+i)\n",
    "    print(f'M = {M_paths} paths')\n",
    "    print(f\"Plain Monte Carlo price = {result['plain'][0]}. StdErr = {result['plain'][1]} and Var = {result['plain'][2]}\")\n",
    "    print(f\"CV Monte Carlo price = {result['control_var'][0]}. StdErr = {result['control_var'][1]} and Var = {result['control_var'][2]}\")\n",
    "    print('===============================================================================================================')"
   ]
  },
  {
   "cell_type": "markdown",
   "id": "1ed16be8",
   "metadata": {},
   "source": [
    "We also want to know the impact on the prices and standard errors when varying some Heston parameters. Below we vary $\\xi$, $\\rho$, and $K$ independently."
   ]
  },
  {
   "cell_type": "code",
   "execution_count": null,
   "id": "ad45ba2e",
   "metadata": {},
   "outputs": [],
   "source": [
    "plain_price_xi, plain_std_xi, cv_price_xi, cv_std_xi, xis = heston_sensitivity(M, S0, V0, K, T, dt, r, rho, kappa, theta, xi, sigma, c, seed, parameter_to_vary='xi')"
   ]
  },
  {
   "cell_type": "code",
   "execution_count": null,
   "id": "68e9f2e4",
   "metadata": {},
   "outputs": [],
   "source": [
    "plain_price_rho, plain_std_rho, cv_price_rho, cv_std_rho, rhos = heston_sensitivity(M, S0, V0, K, T, dt, r, rho, kappa, theta, xi, sigma, c, seed, parameter_to_vary='rho')"
   ]
  },
  {
   "cell_type": "code",
   "execution_count": null,
   "id": "95c51c77",
   "metadata": {},
   "outputs": [],
   "source": [
    "plain_price_k, plain_std_k, cv_price_k, cv_std_k, ks = heston_sensitivity(M, S0, V0, K, T, dt, r, rho, kappa, theta, xi, sigma, c, seed, parameter_to_vary='K')"
   ]
  },
  {
   "cell_type": "code",
   "execution_count": null,
   "id": "dc5fb457",
   "metadata": {},
   "outputs": [],
   "source": [
    "def print_results(plain_prices, plain_stds, cv_prices, cv_stds):\n",
    "    for i in range(len(plain_prices)):\n",
    "        print(f'Plain MC price = {plain_prices[i]} +- {plain_stds[i]}')\n",
    "        print(f'Control Variate prices = {cv_prices[i]} +- {cv_stds[i]}')\n",
    "        print(f'Improvement stderr = {plain_stds[i] / cv_stds[i]}')\n",
    "        print('===========================')\n",
    "\n",
    "# print_results(plain_price_xi, plain_std_xi, cv_price_xi, cv_std_xi)\n",
    "# print_results(plain_price_rho, plain_std_rho, cv_price_rho, cv_std_rho)\n",
    "print_results(plain_price_k, plain_std_k, cv_price_k, cv_std_k)"
   ]
  },
  {
   "cell_type": "code",
   "execution_count": null,
   "id": "8c20f656",
   "metadata": {},
   "outputs": [],
   "source": [
    "plt.figure(figsize=(18, 6), dpi=300)\n",
    "plt.suptitle('Parameter Sensitivity Analysis of the Heston Parameters', fontsize=20)\n",
    "plt.subplot(1, 3, 1)\n",
    "plt.title(r'Option Price for Different $\\xi$', fontsize=17)\n",
    "plt.errorbar([xi - 0.012 for xi in xis], plain_price_xi, yerr=plain_std_xi, fmt='o', color='blue', label='Plain MC', capsize=6)\n",
    "plt.errorbar([xi + 0.012 for xi in xis], cv_price_xi, yerr=cv_std_xi, fmt='o', color='red', label='Control Variate MC', capsize=6)\n",
    "plt.ylabel('Option Price', fontsize=18)\n",
    "plt.xlabel(r'$\\xi$', fontsize=18)\n",
    "plt.xticks(xis)\n",
    "plt.tick_params(axis='both', labelsize=14)\n",
    "plt.legend(fontsize=12)\n",
    "plt.grid(ls='dashed')\n",
    "\n",
    "plt.subplot(1, 3, 2)\n",
    "plt.title(r'Option Price for Different $\\rho$', fontsize=17)\n",
    "plt.errorbar([rho - 0.017 for rho in rhos], plain_price_rho, yerr=plain_std_rho, fmt='o', color='blue', label='Plain MC', capsize=6)\n",
    "plt.errorbar([rho + 0.017 for rho in rhos], cv_price_rho, yerr=cv_std_rho, fmt='o', color='red', label='Control Variate MC', capsize=6)\n",
    "plt.xlabel(r'$\\rho$', fontsize=18)\n",
    "plt.xticks(rhos)\n",
    "plt.tick_params(axis='both', labelsize=14)\n",
    "plt.legend(fontsize=12)\n",
    "plt.grid(ls='dashed')\n",
    "\n",
    "plt.subplot(1, 3, 3)\n",
    "plt.title(r'Option Price for Different $K$', fontsize=17)\n",
    "plt.errorbar([k - 0.14 for k in ks], plain_price_k, yerr=plain_std_k, fmt='o', color='blue', label='Plain MC', capsize=6)\n",
    "plt.errorbar([k + 0.14 for k in ks], cv_price_k, yerr=cv_std_k, fmt='o', color='red', label='Control Variate MC', capsize=6)\n",
    "plt.xlabel(r'$K$', fontsize=18)\n",
    "plt.xticks(ks)\n",
    "plt.tick_params(axis='both', labelsize=14)\n",
    "plt.legend(fontsize=12)\n",
    "plt.grid(ls='dashed')\n",
    "\n",
    "plt.tight_layout()\n",
    "plt.show()"
   ]
  },
  {
   "cell_type": "markdown",
   "id": "afe3f92f",
   "metadata": {},
   "source": [
    "Lastly, to gain better performance, we estimate the optimal value for the control variate coefficient."
   ]
  },
  {
   "cell_type": "code",
   "execution_count": null,
   "id": "c1cb85eb",
   "metadata": {},
   "outputs": [],
   "source": [
    "result = control_variate_MC(M, S0, V0, K, T, dt, r, rho, kappa, theta, xi, sigma, c, seed)"
   ]
  },
  {
   "cell_type": "code",
   "execution_count": null,
   "id": "938e7b56",
   "metadata": {},
   "outputs": [],
   "source": [
    "opt_c = optimal_c(result['payoffs'][1], result['payoffs'][0])\n",
    "print(f'The optimal values for c is c* = {opt_c}')"
   ]
  },
  {
   "cell_type": "code",
   "execution_count": null,
   "id": "1a405030",
   "metadata": {},
   "outputs": [],
   "source": [
    "result_singleM_opt_c = control_variate_MC(M, S0, V0, K, T, dt, r, rho, kappa, theta, xi, sigma, opt_c, seed)"
   ]
  },
  {
   "cell_type": "code",
   "execution_count": null,
   "id": "635f9bcc",
   "metadata": {},
   "outputs": [],
   "source": [
    "print(f\"Plain Monte Carlo price = {result_singleM_opt_c['plain'][0]}. StdErr = {result_singleM_opt_c['plain'][1]} and Var = {result_singleM_opt_c['plain'][2]}\")\n",
    "print(f\"CV Monte Carlo price = {result_singleM_opt_c['control_var'][0]}. StdErr = {result_singleM_opt_c['control_var'][1]} and Var = {result_singleM_opt_c['control_var'][2]}\")"
   ]
  }
 ],
 "metadata": {
  "kernelspec": {
   "display_name": "base",
   "language": "python",
   "name": "python3"
  },
  "language_info": {
   "codemirror_mode": {
    "name": "ipython",
    "version": 3
   },
   "file_extension": ".py",
   "mimetype": "text/x-python",
   "name": "python",
   "nbconvert_exporter": "python",
   "pygments_lexer": "ipython3",
   "version": "3.11.5"
  }
 },
 "nbformat": 4,
 "nbformat_minor": 5
}
