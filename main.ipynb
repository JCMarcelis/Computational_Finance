{
 "cells": [
  {
   "cell_type": "markdown",
   "id": "ee07d38f",
   "metadata": {},
   "source": [
    "# Assignment 3: Binary options, Barrier options, and Implied volatility on the Heston model\n",
    "\n",
    "#### Job Marcelis, Ernani Hazbolatow, Koen Verlaan\n",
    "#### May 19, 2025 University of Amsterdam"
   ]
  }
 ],
 "metadata": {
  "kernelspec": {
   "display_name": "base",
   "language": "python",
   "name": "python3"
  },
  "language_info": {
   "name": "python",
   "version": "3.11.5"
  }
 },
 "nbformat": 4,
 "nbformat_minor": 5
}
